{
 "cells": [
  {
   "cell_type": "code",
   "execution_count": 10,
   "metadata": {},
   "outputs": [],
   "source": [
    "import random\n",
    "\n",
    "from markov import MName\n",
    "from names import PLACES, MALE_NAMES"
   ]
  },
  {
   "cell_type": "code",
   "execution_count": 11,
   "metadata": {},
   "outputs": [],
   "source": [
    "ITEMS = [\"Sword\", \"Shield\", \"Staff\", \"Dagger\", \"Axe\"]"
   ]
  },
  {
   "cell_type": "code",
   "execution_count": 5,
   "metadata": {},
   "outputs": [],
   "source": []
  },
  {
   "cell_type": "code",
   "execution_count": 12,
   "metadata": {
    "tags": []
   },
   "outputs": [
    {
     "output_type": "stream",
     "name": "stdout",
     "text": [
      "Valaryl\nKoretine\nBerryssann\nMauracilit\nSevi\nPerdra\nEbony\nDeloretini\nSolintinar\nVallie\n"
     ]
    }
   ],
   "source": [
    "# Don't use chainlen more than 3, seems to give mostly normal names\n",
    "generator = MName(PLACES, chainlen = 2)\n",
    "for i in range(10):\n",
    "    print(generator.New())"
   ]
  },
  {
   "cell_type": "code",
   "execution_count": 13,
   "metadata": {
    "tags": []
   },
   "outputs": [
    {
     "output_type": "stream",
     "name": "stdout",
     "text": [
      "Lucie's Axe\nDevi's Shield\nBasonia's Shield\nLila's Axe\nMeria's Dagger\nAlanta's Shield\nMerdra's Shield\nLyssandra's Shield\nKerina's Shield\nEbonia's Staff\n"
     ]
    }
   ],
   "source": [
    "generator = MName(PLACES, chainlen = 2)\n",
    "for i in range(10):\n",
    "    item = random.choice(ITEMS)\n",
    "    print(generator.New(), \"'s \", item, sep='' )"
   ]
  },
  {
   "cell_type": "code",
   "execution_count": null,
   "metadata": {},
   "outputs": [],
   "source": []
  },
  {
   "cell_type": "code",
   "execution_count": 14,
   "metadata": {
    "tags": []
   },
   "outputs": [
    {
     "output_type": "stream",
     "name": "stdout",
     "text": [
      "Staff of Fraddon\nSword of Mohnne\nStaff of Neheo\nStaff of Mall\nAxe of Judaston\nAxe of Kamin\nAxe of Axelas\nDagger of Aliver\nSword of Cadenstum\nDagger of Ant\n"
     ]
    }
   ],
   "source": [
    "generator = MName(MALE_NAMES, chainlen = 2)\n",
    "for i in range(10):\n",
    "    item = random.choice(ITEMS)\n",
    "    print(item, \"of\", generator.New())"
   ]
  },
  {
   "cell_type": "code",
   "execution_count": 15,
   "metadata": {},
   "outputs": [],
   "source": [
    "# Remember that in Rust, we will be using ECS, so most of these things will be components.\n",
    "class Item:\n",
    "    def __init__(self, name: str, item_type, tier: int, affinity, range : int, defense_bonus : int, magic_res_bonus: int , physical_dmg_bonus : int, magic_dmg_bonus):\n",
    "        self.name = name #\n",
    "        self.item_type = item_type # Sword, shield, potion etc. Put inside Item component\n",
    "        self.tier = tier # Tier of item, decides rarity and color on screen. Put inside Item component\n",
    "        self.affinity = affinity # Elemental affinity. Should be separate component. Make into an option?\n",
    "        self.range = range\n",
    "        self.defense_bonus = defense_bonus # Make component\n",
    "        self.magic_res_bonus = magic_res_bonus # Make component\n",
    "        self.physical_dmg_bonus = physical_dmg_bonus # Make component\n",
    "        self.magic_dmg_bonus = magic_dmg_bonus # Make component\n",
    "\n",
    "        "
   ]
  },
  {
   "cell_type": "code",
   "execution_count": 16,
   "metadata": {},
   "outputs": [],
   "source": [
    "from enum import Enum\n",
    "\n",
    "class Affinities(Enum):\n",
    "    WATER = 1\n",
    "    EARTH = 2\n",
    "    FIRE = 3\n",
    "    THUNDER = 4\n",
    "    AIR = 5\n",
    "    LIGHT = 6\n",
    "    DARKNESS = 7\n",
    "    GRAVITY = 8\n",
    "    TIME = 9"
   ]
  },
  {
   "cell_type": "code",
   "execution_count": 17,
   "metadata": {
    "tags": []
   },
   "outputs": [
    {
     "output_type": "stream",
     "name": "stdout",
     "text": [
      "{'name': 'Dagger of Nicustus', 'item_type': 'Dagger', 'tier': 8, 'affinity': <Affinities.EARTH: 2>, 'range': 0, 'defense_bonus': 4, 'magic_res_bonus': 4, 'physical_dmg_bonus': 3, 'magic_dmg_bonus': 1}\n"
     ]
    }
   ],
   "source": [
    "item = random.choice(ITEMS)\n",
    "name = MName(MALE_NAMES, chainlen = 2).New()\n",
    "item_name = item + \" of \" + name\n",
    "\n",
    "tier = random.randint(1, 10)\n",
    "\n",
    "affinity = random.choice(list(Affinities))\n",
    "\n",
    "defense_bonus = random.randint(1, 5)\n",
    "magic_res_bonus = random.randint(1, 5)\n",
    "physical_dmg_bonus = random.randint(1, 5)\n",
    "magic_dmg_bonus = random.randint(1, 5)\n",
    "\n",
    "item_example = Item(item_name, item, tier, affinity, 0, defense_bonus, magic_res_bonus, physical_dmg_bonus, magic_dmg_bonus)\n",
    "\n",
    "# Messy way to get some debug info quickly\n",
    "print(item_example.__dict__)    "
   ]
  },
  {
   "cell_type": "code",
   "execution_count": 18,
   "metadata": {
    "tags": []
   },
   "outputs": [
    {
     "output_type": "stream",
     "name": "stdout",
     "text": [
      "{'name': 'Shield of Kallia', 'item_type': 'Shield', 'tier': 9, 'affinity': <Affinities.TIME: 9>, 'range': 0, 'defense_bonus': 1, 'magic_res_bonus': 2, 'physical_dmg_bonus': 3, 'magic_dmg_bonus': 3}\n________________________________________________\n{'name': 'Axe of Kory', 'item_type': 'Axe', 'tier': 7, 'affinity': <Affinities.DARKNESS: 7>, 'range': 0, 'defense_bonus': 1, 'magic_res_bonus': 2, 'physical_dmg_bonus': 1, 'magic_dmg_bonus': 5}\n________________________________________________\n{'name': 'Shield of Mercedes', 'item_type': 'Shield', 'tier': 10, 'affinity': <Affinities.AIR: 5>, 'range': 0, 'defense_bonus': 5, 'magic_res_bonus': 1, 'physical_dmg_bonus': 4, 'magic_dmg_bonus': 4}\n________________________________________________\n{'name': 'Dagger of Callie', 'item_type': 'Dagger', 'tier': 1, 'affinity': <Affinities.GRAVITY: 8>, 'range': 0, 'defense_bonus': 4, 'magic_res_bonus': 4, 'physical_dmg_bonus': 5, 'magic_dmg_bonus': 4}\n________________________________________________\n{'name': 'Sword of Basha', 'item_type': 'Sword', 'tier': 7, 'affinity': <Affinities.AIR: 5>, 'range': 0, 'defense_bonus': 5, 'magic_res_bonus': 5, 'physical_dmg_bonus': 5, 'magic_dmg_bonus': 1}\n________________________________________________\n{'name': 'Shield of Casondra', 'item_type': 'Shield', 'tier': 10, 'affinity': <Affinities.THUNDER: 4>, 'range': 0, 'defense_bonus': 4, 'magic_res_bonus': 5, 'physical_dmg_bonus': 1, 'magic_dmg_bonus': 1}\n________________________________________________\n{'name': 'Staff of Drucila', 'item_type': 'Staff', 'tier': 10, 'affinity': <Affinities.TIME: 9>, 'range': 0, 'defense_bonus': 2, 'magic_res_bonus': 3, 'physical_dmg_bonus': 5, 'magic_dmg_bonus': 5}\n________________________________________________\n{'name': 'Staff of Ambika', 'item_type': 'Staff', 'tier': 5, 'affinity': <Affinities.WATER: 1>, 'range': 0, 'defense_bonus': 1, 'magic_res_bonus': 3, 'physical_dmg_bonus': 5, 'magic_dmg_bonus': 3}\n________________________________________________\n{'name': 'Dagger of Vala', 'item_type': 'Dagger', 'tier': 3, 'affinity': <Affinities.DARKNESS: 7>, 'range': 0, 'defense_bonus': 4, 'magic_res_bonus': 4, 'physical_dmg_bonus': 5, 'magic_dmg_bonus': 4}\n________________________________________________\n{'name': 'Sword of Jetta', 'item_type': 'Sword', 'tier': 4, 'affinity': <Affinities.LIGHT: 6>, 'range': 0, 'defense_bonus': 3, 'magic_res_bonus': 5, 'physical_dmg_bonus': 3, 'magic_dmg_bonus': 5}\n________________________________________________\n"
     ]
    }
   ],
   "source": [
    "generator = MName(PLACES, chainlen = 3)\n",
    "for i in range(10):\n",
    "    item = random.choice(ITEMS)\n",
    "    name = generator.New()\n",
    "    item_name = item + \" of \" + name\n",
    "\n",
    "    tier = random.randint(1, 10)\n",
    "\n",
    "    affinity = random.choice(list(Affinities))\n",
    "\n",
    "    defense_bonus = random.randint(1, 5)\n",
    "    magic_res_bonus = random.randint(1, 5)\n",
    "    physical_dmg_bonus = random.randint(1, 5)\n",
    "    magic_dmg_bonus = random.randint(1, 5)\n",
    "\n",
    "    item_example = Item(item_name, item, tier, affinity, 0, defense_bonus, magic_res_bonus, physical_dmg_bonus, magic_dmg_bonus)\n",
    "\n",
    "    # Messy way to get some debug info quickly\n",
    "    print(item_example.__dict__)  \n",
    "    print(\"________________________________________________\")"
   ]
  },
  {
   "cell_type": "code",
   "execution_count": null,
   "metadata": {},
   "outputs": [],
   "source": []
  }
 ],
 "metadata": {
  "kernelspec": {
   "display_name": "Python 3",
   "language": "python",
   "name": "python3"
  },
  "language_info": {
   "codemirror_mode": {
    "name": "ipython",
    "version": 3
   },
   "file_extension": ".py",
   "mimetype": "text/x-python",
   "name": "python",
   "nbconvert_exporter": "python",
   "pygments_lexer": "ipython3",
   "version": "3.8.5-final"
  }
 },
 "nbformat": 4,
 "nbformat_minor": 4
}