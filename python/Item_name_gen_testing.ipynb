{
 "cells": [
  {
   "cell_type": "code",
   "execution_count": 1,
   "metadata": {},
   "outputs": [],
   "source": [
    "import random\n",
    "\n",
    "from markov import MName\n",
    "from names import PLACES, MALE_NAMES"
   ]
  },
  {
   "cell_type": "code",
   "execution_count": 2,
   "metadata": {},
   "outputs": [],
   "source": [
    "ITEMS = [\"Sword\", \"Shield\", \"Staff\", \"Dagger\", \"Axe\"]"
   ]
  },
  {
   "cell_type": "code",
   "execution_count": 5,
   "metadata": {},
   "outputs": [],
   "source": []
  },
  {
   "cell_type": "code",
   "execution_count": 3,
   "metadata": {
    "tags": []
   },
   "outputs": [
    {
     "output_type": "stream",
     "name": "stdout",
     "text": [
      "Theria\nAdra\nKore\nSevessa\nAdra\nBeria\nLucrevita\nDuvery\nKoryn\nBryshath\n"
     ]
    }
   ],
   "source": [
    "# Don't use chainlen more than 3, seems to give mostly normal names\n",
    "generator = MName(PLACES, chainlen = 2)\n",
    "for i in range(10):\n",
    "    print(generator.New())"
   ]
  },
  {
   "cell_type": "code",
   "execution_count": 4,
   "metadata": {
    "tags": []
   },
   "outputs": [
    {
     "output_type": "stream",
     "name": "stdout",
     "text": [
      "Dea's Dagger\nCasha's Dagger\nJoby's Staff\nSala's Dagger\nKorysha's Dagger\nMia's Sword\nDruciena's Dagger\nHeddarinta's Shield\nAra's Sword\nDabika's Shield\n"
     ]
    }
   ],
   "source": [
    "generator = MName(PLACES, chainlen = 2)\n",
    "for i in range(10):\n",
    "    item = random.choice(ITEMS)\n",
    "    print(generator.New(), \"'s \", item, sep='' )"
   ]
  },
  {
   "cell_type": "code",
   "execution_count": null,
   "metadata": {},
   "outputs": [],
   "source": []
  },
  {
   "cell_type": "code",
   "execution_count": 5,
   "metadata": {
    "tags": []
   },
   "outputs": [
    {
     "output_type": "stream",
     "name": "stdout",
     "text": [
      "Staff of Rob\nAxe of Bry\nShield of Jaid\nStaff of Coliantlej\nSword of Seb\nShield of Math\nShield of Jam\nShield of Jett\nDagger of Jaide\nShield of Kas\n"
     ]
    }
   ],
   "source": [
    "generator = MName(MALE_NAMES, chainlen = 2)\n",
    "for i in range(10):\n",
    "    item = random.choice(ITEMS)\n",
    "    print(item, \"of\", generator.New())"
   ]
  },
  {
   "cell_type": "code",
   "execution_count": 6,
   "metadata": {},
   "outputs": [],
   "source": [
    "# Remember that in Rust, we will be using ECS, so most of these things will be components.\n",
    "class Item:\n",
    "    def __init__(self, name: str, item_type, tier: int, affinity, range : int, defense_bonus : int, magic_res_bonus: int , physical_dmg_bonus : int, magic_dmg_bonus):\n",
    "        self.name = name #\n",
    "        self.item_type = item_type # Sword, shield, potion etc. Put inside Item component\n",
    "        self.tier = tier # Tier of item, decides rarity and color on screen. Put inside Item component\n",
    "        self.affinity = affinity # Elemental affinity. Should be separate component. Make into an option?\n",
    "        self.range = range\n",
    "        self.defense_bonus = defense_bonus # Make component\n",
    "        self.magic_res_bonus = magic_res_bonus # Make component\n",
    "        self.physical_dmg_bonus = physical_dmg_bonus # Make component\n",
    "        self.magic_dmg_bonus = magic_dmg_bonus # Make component\n",
    "\n",
    "        "
   ]
  },
  {
   "cell_type": "code",
   "execution_count": 7,
   "metadata": {},
   "outputs": [],
   "source": [
    "from enum import Enum\n",
    "\n",
    "class Affinities(Enum):\n",
    "    WATER = 1\n",
    "    EARTH = 2\n",
    "    FIRE = 3\n",
    "    THUNDER = 4\n",
    "    AIR = 5\n",
    "    LIGHT = 6\n",
    "    DARKNESS = 7\n",
    "    GRAVITY = 8\n",
    "    TIME = 9"
   ]
  },
  {
   "cell_type": "code",
   "execution_count": 8,
   "metadata": {
    "tags": []
   },
   "outputs": [
    {
     "output_type": "stream",
     "name": "stdout",
     "text": [
      "{'name': 'Axe of Jam', 'item_type': 'Axe', 'tier': 2, 'affinity': <Affinities.FIRE: 3>, 'range': 0, 'defense_bonus': 5, 'magic_res_bonus': 3, 'physical_dmg_bonus': 5, 'magic_dmg_bonus': 1}\n"
     ]
    }
   ],
   "source": [
    "item = random.choice(ITEMS)\n",
    "name = MName(MALE_NAMES, chainlen = 2).New()\n",
    "item_name = item + \" of \" + name\n",
    "\n",
    "tier = random.randint(1, 10)\n",
    "\n",
    "affinity = random.choice(list(Affinities))\n",
    "\n",
    "defense_bonus = random.randint(1, 5)\n",
    "magic_res_bonus = random.randint(1, 5)\n",
    "physical_dmg_bonus = random.randint(1, 5)\n",
    "magic_dmg_bonus = random.randint(1, 5)\n",
    "\n",
    "item_example = Item(item_name, item, tier, affinity, 0, defense_bonus, magic_res_bonus, physical_dmg_bonus, magic_dmg_bonus)\n",
    "\n",
    "# Messy way to get some debug info quickly\n",
    "print(item_example.__dict__)    "
   ]
  },
  {
   "cell_type": "code",
   "execution_count": 9,
   "metadata": {
    "tags": []
   },
   "outputs": [
    {
     "output_type": "stream",
     "name": "stdout",
     "text": [
      "{'name': 'Sword of Duvessa', 'item_type': 'Sword', 'tier': 7, 'affinity': <Affinities.TIME: 9>, 'range': 0, 'defense_bonus': 3, 'magic_res_bonus': 3, 'physical_dmg_bonus': 4, 'magic_dmg_bonus': 1}\n________________________________________________\n{'name': 'Dagger of Jetta', 'item_type': 'Dagger', 'tier': 3, 'affinity': <Affinities.EARTH: 2>, 'range': 0, 'defense_bonus': 3, 'magic_res_bonus': 4, 'physical_dmg_bonus': 5, 'magic_dmg_bonus': 1}\n________________________________________________\n{'name': 'Staff of Alvita', 'item_type': 'Staff', 'tier': 5, 'affinity': <Affinities.WATER: 1>, 'range': 0, 'defense_bonus': 3, 'magic_res_bonus': 4, 'physical_dmg_bonus': 5, 'magic_dmg_bonus': 5}\n________________________________________________\n{'name': 'Axe of Gallia', 'item_type': 'Axe', 'tier': 7, 'affinity': <Affinities.FIRE: 3>, 'range': 0, 'defense_bonus': 1, 'magic_res_bonus': 4, 'physical_dmg_bonus': 1, 'magic_dmg_bonus': 4}\n________________________________________________\n{'name': 'Dagger of Chatha', 'item_type': 'Dagger', 'tier': 3, 'affinity': <Affinities.WATER: 1>, 'range': 0, 'defense_bonus': 5, 'magic_res_bonus': 4, 'physical_dmg_bonus': 4, 'magic_dmg_bonus': 1}\n________________________________________________\n{'name': 'Axe of Delores', 'item_type': 'Axe', 'tier': 5, 'affinity': <Affinities.LIGHT: 6>, 'range': 0, 'defense_bonus': 3, 'magic_res_bonus': 2, 'physical_dmg_bonus': 1, 'magic_dmg_bonus': 5}\n________________________________________________\n{'name': 'Sword of Safiya', 'item_type': 'Sword', 'tier': 6, 'affinity': <Affinities.DARKNESS: 7>, 'range': 0, 'defense_bonus': 5, 'magic_res_bonus': 4, 'physical_dmg_bonus': 1, 'magic_dmg_bonus': 4}\n________________________________________________\n{'name': 'Sword of Perdita', 'item_type': 'Sword', 'tier': 4, 'affinity': <Affinities.AIR: 5>, 'range': 0, 'defense_bonus': 2, 'magic_res_bonus': 1, 'physical_dmg_bonus': 2, 'magic_dmg_bonus': 3}\n________________________________________________\n{'name': 'Dagger of Kacillia', 'item_type': 'Dagger', 'tier': 2, 'affinity': <Affinities.THUNDER: 4>, 'range': 0, 'defense_bonus': 2, 'magic_res_bonus': 3, 'physical_dmg_bonus': 4, 'magic_dmg_bonus': 1}\n________________________________________________\n{'name': 'Dagger of Maura', 'item_type': 'Dagger', 'tier': 1, 'affinity': <Affinities.FIRE: 3>, 'range': 0, 'defense_bonus': 1, 'magic_res_bonus': 1, 'physical_dmg_bonus': 5, 'magic_dmg_bonus': 2}\n________________________________________________\n"
     ]
    }
   ],
   "source": [
    "generator = MName(PLACES, chainlen = 3)\n",
    "for i in range(10):\n",
    "    item = random.choice(ITEMS)\n",
    "    name = generator.New()\n",
    "    item_name = item + \" of \" + name\n",
    "\n",
    "    tier = random.randint(1, 10)\n",
    "\n",
    "    affinity = random.choice(list(Affinities))\n",
    "\n",
    "    defense_bonus = random.randint(1, 5)\n",
    "    magic_res_bonus = random.randint(1, 5)\n",
    "    physical_dmg_bonus = random.randint(1, 5)\n",
    "    magic_dmg_bonus = random.randint(1, 5)\n",
    "\n",
    "    item_example = Item(item_name, item, tier, affinity, 0, defense_bonus, magic_res_bonus, physical_dmg_bonus, magic_dmg_bonus)\n",
    "\n",
    "    # Messy way to get some debug info quickly\n",
    "    print(item_example.__dict__)  \n",
    "    print(\"________________________________________________\")"
   ]
  },
  {
   "cell_type": "code",
   "execution_count": null,
   "metadata": {},
   "outputs": [],
   "source": []
  }
 ],
 "metadata": {
  "kernelspec": {
   "display_name": "Python 3",
   "language": "python",
   "name": "python3"
  },
  "language_info": {
   "codemirror_mode": {
    "name": "ipython",
    "version": 3
   },
   "file_extension": ".py",
   "mimetype": "text/x-python",
   "name": "python",
   "nbconvert_exporter": "python",
   "pygments_lexer": "ipython3",
   "version": "3.8.5-final"
  }
 },
 "nbformat": 4,
 "nbformat_minor": 4
}